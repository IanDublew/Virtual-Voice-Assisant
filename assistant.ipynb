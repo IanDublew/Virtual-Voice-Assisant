{
  "cells": [
    {
      "cell_type": "code",
      "source": [
        "pip install pyaudio\n",
        "pip install -U openai-whisper\n",
        "pip install openai\n",
        "pip install gTTS"
      ],
      "metadata": {
        "id": "tGq4k7GbsK3q"
      },
      "execution_count": null,
      "outputs": []
    },
    {
      "cell_type": "code",
      "execution_count": 20,
      "metadata": {
        "id": "4t5vQ0R-EynR"
      },
      "outputs": [],
      "source": [
        "import wave\n",
        "import whisper\n",
        "import openai\n",
        "import pyaudio\n",
        "from gtts import gTTS\n",
        "import os"
      ]
    },
    {
      "cell_type": "code",
      "execution_count": 9,
      "metadata": {
        "id": "cxwiPca1EynX"
      },
      "outputs": [],
      "source": [
        "# Set up OpenAI API credentials\n",
        "openai.api_key = \"\"\n"
      ]
    },
    {
      "cell_type": "code",
      "source": [
        "# Set parameters for audio recording\n",
        "CHUNK = 1024\n",
        "FORMAT = pyaudio.paInt16\n",
        "CHANNELS = 1\n",
        "RATE = 16000\n",
        "RECORD_SECONDS = 5\n",
        "\n",
        "# Initialize PyAudio\n",
        "p = pyaudio.PyAudio()\n",
        "\n",
        "# Open audio stream from microphone\n",
        "stream = p.open(format=FORMAT,\n",
        "                channels=CHANNELS,\n",
        "                rate=RATE,\n",
        "                input=True,\n",
        "                frames_per_buffer=CHUNK)\n",
        "\n",
        "print(\"* recording\")\n",
        "\n",
        "# Record audio for specified time\n",
        "frames = []\n",
        "for i in range(0, int(RATE / CHUNK * RECORD_SECONDS)):\n",
        "    data = stream.read(CHUNK)\n",
        "    frames.append(data)\n",
        "\n",
        "print(\"* done recording\")\n",
        "\n",
        "# Stop audio stream and terminate PyAudio\n",
        "stream.stop_stream()\n",
        "stream.close()\n",
        "p.terminate()\n",
        "\n",
        "# Save audio to WAV file\n",
        "filename = \"audio.wav\"\n",
        "wf = wave.open(filename, 'wb')\n",
        "wf.setnchannels(CHANNELS)\n",
        "wf.setsampwidth(p.get_sample_size(FORMAT))\n",
        "wf.setframerate(RATE)\n",
        "wf.writeframes(b''.join(frames))\n",
        "wf.close()"
      ],
      "metadata": {
        "id": "d0lS7h14yVyZ"
      },
      "execution_count": null,
      "outputs": []
    },
    {
      "cell_type": "code",
      "execution_count": null,
      "metadata": {
        "id": "jSlwG9bKEync"
      },
      "outputs": [],
      "source": [
        "#Initialize Whisper model\n",
        "\n",
        "model = whisper.load_model(\"small.en\")\n"
      ]
    },
    {
      "cell_type": "code",
      "source": [
        "# Transcribe audio using Whisper\n",
        "transcribed_text = model.transcribe(\"audio.wav\")\n",
        "if \"text\" in transcribed_text:\n",
        "    transcription = transcribed_text[\"text\"]\n",
        "    print(transcription)\n",
        "else:\n",
        "    print(\"Transcription failed\")\n",
        "\n"
      ],
      "metadata": {
        "id": "y6ehE2IINezu",
        "colab": {
          "base_uri": "https://localhost:8080/"
        },
        "outputId": "1400a73a-5611-4ad4-aae3-c17dae1dd01c"
      },
      "execution_count": 12,
      "outputs": [
        {
          "output_type": "stream",
          "name": "stdout",
          "text": [
            " How to start an online business?\n"
          ]
        }
      ]
    },
    {
      "cell_type": "code",
      "execution_count": 13,
      "metadata": {
        "id": "oJu2EvsSEynd"
      },
      "outputs": [],
      "source": [
        "# Send transcribed text as a query to OpenAI GPT-3 API\n",
        "response = openai.Completion.create(\n",
        "    engine=\"text-davinci-003\",\n",
        "    prompt=transcription,\n",
        "    max_tokens=3000,\n",
        "    n=1,\n",
        "    frequency_penalty=1,\n",
        "    presence_penalty=1,\n",
        "    stop=None,\n",
        "    temperature=0.8,\n",
        "    top_p=1,best_of=1\n",
        ")"
      ]
    },
    {
      "cell_type": "code",
      "execution_count": null,
      "metadata": {
        "id": "ebuytvejEynd"
      },
      "outputs": [],
      "source": [
        "# Get the response from OpenAI API\n",
        "api_response = response.choices[0].text\n",
        "\n",
        "# Print the API response\n",
        "print(api_response)"
      ]
    },
    {
      "cell_type": "code",
      "source": [
        "# Generate audio from transcript\n",
        "language = 'en'\n",
        "tts = gTTS(text=api_response, lang=language)\n",
        "\n",
        "# Save audio to file\n",
        "filename = \"output.mp3\"\n",
        "tts.save(filename)\n",
        "\n",
        "# Play audio using default media player\n",
        "os.startfile(filename)\n"
      ],
      "metadata": {
        "id": "vARI7goqzPQj"
      },
      "execution_count": null,
      "outputs": []
    }
  ],
  "metadata": {
    "kernelspec": {
      "display_name": "Python 3",
      "language": "python",
      "name": "python3"
    },
    "language_info": {
      "codemirror_mode": {
        "name": "ipython",
        "version": 3
      },
      "file_extension": ".py",
      "mimetype": "text/x-python",
      "name": "python",
      "nbconvert_exporter": "python",
      "pygments_lexer": "ipython3",
      "version": "3.7.3"
    },
    "orig_nbformat": 4,
    "colab": {
      "provenance": []
    },
    "accelerator": "GPU",
    "gpuClass": "standard"
  },
  "nbformat": 4,
  "nbformat_minor": 0
}
